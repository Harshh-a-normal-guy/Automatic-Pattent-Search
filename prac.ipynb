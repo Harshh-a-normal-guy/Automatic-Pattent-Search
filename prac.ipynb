{
 "cells": [
  {
   "cell_type": "code",
   "execution_count": null,
   "metadata": {},
   "outputs": [],
   "source": [
    "\n"
   ]
  },
  {
   "cell_type": "code",
   "execution_count": 1,
   "metadata": {},
   "outputs": [],
   "source": [
    "\n",
    "import pandas as pd\n"
   ]
  },
  {
   "cell_type": "code",
   "execution_count": 2,
   "metadata": {},
   "outputs": [],
   "source": [
    "df=pd.read_csv(\"csv_data.csv\")"
   ]
  },
  {
   "cell_type": "code",
   "execution_count": 3,
   "metadata": {},
   "outputs": [
    {
     "data": {
      "text/plain": [
       "Index(['Unnamed: 0', 'Invention Title', 'Publication Number',\n",
       "       'Publication Date', 'Publication Type', 'Application Number',\n",
       "       'Application Filing Date', 'Priority Number', 'Priority Country',\n",
       "       'Priority Date', 'Field Of Invention', 'Classification (IPC)',\n",
       "       'Name Address Country Nationality\\nHWANG, June 129, Samsung-ro, Yeongtong-gu, Suwon-si, Gyeonggi-do 16677 Republic of Korea Republic of Korea\\nAGIWAL, Anil 129, Samsung-ro, Yeongtong-gu, Suwon-si, Gyeonggi-do 16677 Republic of Korea Republic of Korea',\n",
       "       '129, Samsung-ro, Yeongtong-gu, Suwon-si, Gyeonggi-do 16677',\n",
       "       'Republic of Korea', 'HWANG, June', 'AGIWAL, Anil',\n",
       "       'Name Address Country Nationality\\nSAMSUNG ELECTRONICS CO., LTD. 129, Samsung-ro, Yeongtong-gu, Suwon-si, Gyeonggi-do 16677 Republic of Korea Republic of Korea',\n",
       "       'SAMSUNG ELECTRONICS CO., LTD.', 'APPLICATION NUMBER',\n",
       "       'APPLICATION TYPE', 'DATE OF FILING', 'APPLICANT NAME',\n",
       "       'TITLE OF INVENTION', 'FIELD OF INVENTION', 'E-MAIL (As Per Record)',\n",
       "       'ADDITIONAL-EMAIL (As Per Record)', 'E-MAIL (UPDATED Online)',\n",
       "       'PCT INTERNATIONAL APPLICATION NUMBER', 'PCT INTERNATIONAL FILING DATE',\n",
       "       'PRIORITY DATE', 'REQUEST FOR EXAMINATION DATE',\n",
       "       'PUBLICATION DATE (U/S 11A)', 'APPLICATION STATUS', 'Unnamed: 34'],\n",
       "      dtype='object')"
      ]
     },
     "execution_count": 3,
     "metadata": {},
     "output_type": "execute_result"
    }
   ],
   "source": [
    "df.columns"
   ]
  },
  {
   "cell_type": "code",
   "execution_count": 4,
   "metadata": {},
   "outputs": [],
   "source": [
    "application_cols=['Invention Title', 'Publication Number',\n",
    "       'Publication Date', 'Publication Type', 'Application Number',\n",
    "       'Application Filing Date', 'Priority Number', 'Priority Country',\n",
    "       'Priority Date', 'Field Of Invention', 'Classification (IPC)','APPLICATION NUMBER',\n",
    "       'APPLICATION TYPE', 'APPLICANT NAME','FIELD OF INVENTION', 'E-MAIL (As Per Record)',\n",
    "       'ADDITIONAL-EMAIL (As Per Record)', 'E-MAIL (UPDATED Online)',\n",
    "       'PCT INTERNATIONAL APPLICATION NUMBER', 'PCT INTERNATIONAL FILING DATE',\n",
    "       'PRIORITY DATE', 'REQUEST FOR EXAMINATION DATE',\n",
    "       'PUBLICATION DATE (U/S 11A)', 'APPLICATION STATUS']\n"
   ]
  },
  {
   "cell_type": "code",
   "execution_count": 6,
   "metadata": {},
   "outputs": [],
   "source": [
    "df=df[application_cols]"
   ]
  },
  {
   "cell_type": "code",
   "execution_count": 11,
   "metadata": {},
   "outputs": [],
   "source": [
    "df[\"Application Filing Date\"]=pd.to_datetime(df[\"Application Filing Date\"],format=\"%m%d%Y\")"
   ]
  },
  {
   "cell_type": "code",
   "execution_count": 15,
   "metadata": {},
   "outputs": [
    {
     "name": "stderr",
     "output_type": "stream",
     "text": [
      "/tmp/ipykernel_6875/3691554159.py:1: FutureWarning: Calling int on a single element Series is deprecated and will raise a TypeError in the future. Use int(ser.iloc[0]) instead\n",
      "  int(df[\"Application Filing Date\"].dt.day)\n"
     ]
    },
    {
     "data": {
      "text/plain": [
       "27"
      ]
     },
     "execution_count": 15,
     "metadata": {},
     "output_type": "execute_result"
    }
   ],
   "source": [
    "int(df[\"Application Filing Date\"].dt.day)"
   ]
  },
  {
   "cell_type": "code",
   "execution_count": 23,
   "metadata": {},
   "outputs": [
    {
     "data": {
      "text/plain": [
       "0    January\n",
       "Name: Application Filing Date, dtype: object"
      ]
     },
     "execution_count": 23,
     "metadata": {},
     "output_type": "execute_result"
    }
   ],
   "source": [
    "df[\"Application Filing Date\"].dt.month_name()"
   ]
  },
  {
   "cell_type": "code",
   "execution_count": 1,
   "metadata": {},
   "outputs": [
    {
     "ename": "NameError",
     "evalue": "name 'pd' is not defined",
     "output_type": "error",
     "traceback": [
      "\u001b[0;31m---------------------------------------------------------------------------\u001b[0m",
      "\u001b[0;31mNameError\u001b[0m                                 Traceback (most recent call last)",
      "Cell \u001b[0;32mIn[1], line 1\u001b[0m\n\u001b[0;32m----> 1\u001b[0m \u001b[43mpd\u001b[49m\u001b[38;5;241m.\u001b[39mread_csv(\u001b[38;5;124m\"\u001b[39m\u001b[38;5;124mdata.csv\u001b[39m\u001b[38;5;124m\"\u001b[39m)\n",
      "\u001b[0;31mNameError\u001b[0m: name 'pd' is not defined"
     ]
    }
   ],
   "source": [
    "pd.read_csv(\"data.csv\")\n",
    "        "
   ]
  },
  {
   "cell_type": "code",
   "execution_count": 1,
   "metadata": {},
   "outputs": [],
   "source": [
    "# create a folder \n",
    "# which has sub folders based on year and inside subfolder(application no)"
   ]
  },
  {
   "cell_type": "code",
   "execution_count": 2,
   "metadata": {},
   "outputs": [],
   "source": [
    "import os"
   ]
  },
  {
   "cell_type": "code",
   "execution_count": 3,
   "metadata": {},
   "outputs": [],
   "source": [
    "import os\n",
    "import datetime\n",
    "\n",
    "def create_folders(base_path, start_year, end_year, num_applications):\n",
    "    for year in range(start_year, end_year + 1):\n",
    "        year_folder_name = str(year)\n",
    "        year_folder_path = os.path.join(base_path, year_folder_name)\n",
    "        os.makedirs(year_folder_path)\n",
    "\n",
    "        for app_number in range(1, num_applications + 1):\n",
    "            app_folder_name = f\"Application_{app_number:04d}\"\n",
    "            app_folder_path = os.path.join(year_folder_path, app_folder_name)\n",
    "            os.makedirs(app_folder_path)\n",
    "\n",
    "# Example usage:\n",
    "base_directory = \"/path/to/your/base/directory\"\n",
    "start_year = 2022\n",
    "end_year = 2024\n",
    "num_applications = 5\n",
    "\n",
    "create_folders(base_directory, start_year, end_year, num_applications)\n"
   ]
  },
  {
   "cell_type": "code",
   "execution_count": null,
   "metadata": {},
   "outputs": [],
   "source": [
    "# base_path= \"/home/harsh/work_dir/Ipindia\"\n",
    "# create_folders(base_path)"
   ]
  },
  {
   "cell_type": "code",
   "execution_count": 2,
   "metadata": {},
   "outputs": [],
   "source": [
    "# clean function for (module) data cleaning\n",
    "#then analytics and use Streamlit to display trends or aything else to automate the analytics dahsboard on Aws\n"
   ]
  },
  {
   "cell_type": "code",
   "execution_count": null,
   "metadata": {},
   "outputs": [],
   "source": []
  }
 ],
 "metadata": {
  "kernelspec": {
   "display_name": "Python 3",
   "language": "python",
   "name": "python3"
  },
  "language_info": {
   "codemirror_mode": {
    "name": "ipython",
    "version": 3
   },
   "file_extension": ".py",
   "mimetype": "text/x-python",
   "name": "python",
   "nbconvert_exporter": "python",
   "pygments_lexer": "ipython3",
   "version": "3.10.12"
  }
 },
 "nbformat": 4,
 "nbformat_minor": 2
}
